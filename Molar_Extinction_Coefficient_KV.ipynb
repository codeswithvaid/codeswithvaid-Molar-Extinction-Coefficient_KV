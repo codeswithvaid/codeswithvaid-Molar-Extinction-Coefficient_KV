{
  "cells": [
    {
      "cell_type": "code",
      "source": [
        "def calculate_molar_extinction_coefficient(absorbance, path_length, concentration):\n",
        "    \"\"\"\n",
        "    Calculates the molar extinction coefficient (ε) using the Beer-Lambert Law:\n",
        "    A = ε * b * c\n",
        "\n",
        "    Where:\n",
        "    A = Absorbance (unitless)\n",
        "    ε = Molar Extinction Coefficient (L mol⁻¹ cm⁻¹)\n",
        "    b = Path Length (cm)\n",
        "    c = Concentration (mol/L)\n",
        "\n",
        "    Args:\n",
        "        absorbance (float): The absorbance of the solution.\n",
        "        path_length (float): The path length of the cuvette in centimeters.\n",
        "        concentration (float): The concentration of the solution in moles per liter (mol/L or M).\n",
        "\n",
        "    Returns:\n",
        "        float: The molar extinction coefficient (ε) in L mol⁻¹ cm⁻¹.\n",
        "               Returns None if the input values are invalid.\n",
        "\n",
        "    Raises:\n",
        "        TypeError: If any of the input arguments are not of type float or int.\n",
        "        ValueError: If any of the input arguments are zero or negative.\n",
        "    \"\"\"\n",
        "    # Input validation: Check types and values\n",
        "    if not all(isinstance(arg, (float, int)) for arg in [absorbance, path_length, concentration]):\n",
        "        raise TypeError(\"All input arguments (absorbance, path_length, concentration) must be numeric.\")\n",
        "    if not all(arg > 0 for arg in [absorbance, path_length, concentration]):\n",
        "        raise ValueError(\"All input arguments (absorbance, path_length, concentration) must be greater than zero.\")\n",
        "\n",
        "    try:\n",
        "        # Calculation of molar extinction coefficient\n",
        "        epsilon = absorbance / (path_length * concentration)\n",
        "        return epsilon\n",
        "    except ZeroDivisionError:\n",
        "        return None  # Handle the case where path_length or concentration is zero (shouldn't happen with the checks, but good to have)\n",
        "\n",
        "def main():\n",
        "    \"\"\"\n",
        "    Main function to demonstrate the usage of the calculate_molar_extinction_coefficient function.\n",
        "    \"\"\"\n",
        "    # Test case 1: Basic usage\n",
        "    absorbance1 = 0.75\n",
        "    path_length1 = 1.0  # cm\n",
        "    concentration1 = 0.001  # mol/L\n",
        "    epsilon1 = calculate_molar_extinction_coefficient(absorbance1, path_length1, concentration1)\n",
        "    if epsilon1 is not None:\n",
        "        print(f\"Test Case 1: Molar Extinction Coefficient = {epsilon1:.2f} L mol⁻¹ cm⁻¹\")\n",
        "    else:\n",
        "        print(\"Test Case 1: Calculation failed.\")\n",
        "\n",
        "    # Test case 2: Different values\n",
        "    absorbance2 = 0.345\n",
        "    path_length2 = 0.5  # cm\n",
        "    concentration2 = 0.0005  # mol/L\n",
        "    epsilon2 = calculate_molar_extinction_coefficient(absorbance2, path_length2, concentration2)\n",
        "    if epsilon2 is not None:\n",
        "        print(f\"Test Case 2: Molar Extinction Coefficient = {epsilon2:.2f} L mol⁻¹ cm⁻¹\")\n",
        "    else:\n",
        "        print(\"Test Case 2: Calculation failed.\")\n",
        "\n",
        "    # Expected output\n",
        "\n",
        "if __name__ == \"__main__\":\n",
        "    main()"
      ],
      "outputs": [
        {
          "output_type": "stream",
          "name": "stdout",
          "text": [
            "Test Case 1: Molar Extinction Coefficient = 750.00 L mol⁻¹ cm⁻¹\n",
            "Test Case 2: Molar Extinction Coefficient = 1380.00 L mol⁻¹ cm⁻¹\n"
          ]
        }
      ],
      "execution_count": 3,
      "metadata": {
        "colab": {
          "base_uri": "https://localhost:8080/"
        },
        "id": "jkQKFuZvxRv9",
        "outputId": "17e858fe-d0fc-4291-df1b-ed377c145e75"
      }
    }
  ],
  "metadata": {
    "colab": {
      "provenance": []
    },
    "kernelspec": {
      "display_name": "Python 3",
      "name": "python3"
    }
  },
  "nbformat": 4,
  "nbformat_minor": 0
}